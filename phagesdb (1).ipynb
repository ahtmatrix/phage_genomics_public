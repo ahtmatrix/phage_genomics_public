{
 "cells": [
  {
   "cell_type": "code",
   "execution_count": 2,
   "metadata": {},
   "outputs": [
    {
     "name": "stdout",
     "output_type": "stream",
     "text": [
      "Collecting biopython\n",
      "  Downloading biopython-1.70-cp35-cp35m-manylinux1_x86_64.whl (2.2MB)\n",
      "\u001b[K    100% |################################| 2.2MB 613kB/s eta 0:00:01\n",
      "\u001b[?25hRequirement already satisfied: numpy in /home/nbcommon/anaconda3_420/lib/python3.5/site-packages (from biopython)\n",
      "Installing collected packages: biopython\n",
      "Successfully installed biopython-1.70\n"
     ]
    }
   ],
   "source": [
    "!pip install biopython"
   ]
  },
  {
   "cell_type": "code",
   "execution_count": 3,
   "metadata": {
    "collapsed": true
   },
   "outputs": [],
   "source": [
    "# get the data from phageDB\n",
    "\n",
    "import json\n",
    "import requests\n",
    "\n",
    "# gets the list of B1 phages\n",
    "response = requests.get(\"http://phagesdb.org/api/subclusters/B1/phagelist/\")\n",
    "\n",
    "# convert it into json format\n",
    "data = response.json()\n",
    "\n",
    "# data is saved as dictionary, 'results' key is paired with a list, which you can loop through"
   ]
  },
  {
   "cell_type": "code",
   "execution_count": 4,
   "metadata": {
    "collapsed": true
   },
   "outputs": [],
   "source": [
    "# loop through the subcluster results\n",
    "\n",
    "# save the number of results\n",
    "num_of_results = len(data['results'])\n",
    "\n",
    "# make an empty list to save accession numbers\n",
    "genbank_accession_list = []\n",
    "\n",
    "# loop through the results\n",
    "for each in range(num_of_results):\n",
    "    \n",
    "    #check if it has a genbank file uploaded\n",
    "    if data['results'][each]['in_genbank'] == True:\n",
    "        \n",
    "        #put the genbank accession into a list and strip the leading whitespace\n",
    "        genbank_accession_list.append(data['results'][each]['genbank_accession'].lstrip())"
   ]
  },
  {
   "cell_type": "code",
   "execution_count": 10,
   "metadata": {},
   "outputs": [
    {
     "name": "stdout",
     "output_type": "stream",
     "text": [
      "<built-in method keys of collections.OrderedDict object at 0x7fd272bd08c8>\n"
     ]
    },
    {
     "ename": "KeyError",
     "evalue": "'note'",
     "output_type": "error",
     "traceback": [
      "\u001b[0;31m---------------------------------------------------------------------------\u001b[0m",
      "\u001b[0;31mKeyError\u001b[0m                                  Traceback (most recent call last)",
      "\u001b[0;32m<ipython-input-10-aae86d8e2a02>\u001b[0m in \u001b[0;36m<module>\u001b[0;34m()\u001b[0m\n\u001b[1;32m     14\u001b[0m             \u001b[0;31m# extract just 1 gene from each genbank\u001b[0m\u001b[0;34m\u001b[0m\u001b[0;34m\u001b[0m\u001b[0m\n\u001b[1;32m     15\u001b[0m         \u001b[0mprint\u001b[0m\u001b[0;34m(\u001b[0m\u001b[0mfeature\u001b[0m\u001b[0;34m.\u001b[0m\u001b[0mqualifiers\u001b[0m\u001b[0;34m.\u001b[0m\u001b[0mkeys\u001b[0m\u001b[0;34m)\u001b[0m\u001b[0;34m\u001b[0m\u001b[0m\n\u001b[0;32m---> 16\u001b[0;31m         \u001b[0;32mif\u001b[0m \u001b[0mfeature\u001b[0m\u001b[0;34m.\u001b[0m\u001b[0mqualifiers\u001b[0m\u001b[0;34m[\u001b[0m\u001b[0;34m'note'\u001b[0m\u001b[0;34m]\u001b[0m \u001b[0;34m==\u001b[0m \u001b[0;34m\"tapemeasure\"\u001b[0m \u001b[0;32mor\u001b[0m \u001b[0;34m\"tapemeasure protein\"\u001b[0m\u001b[0;34m:\u001b[0m\u001b[0;34m\u001b[0m\u001b[0m\n\u001b[0m\u001b[1;32m     17\u001b[0m             \u001b[0mprint\u001b[0m\u001b[0;34m(\u001b[0m\u001b[0mrecord\u001b[0m\u001b[0;34m.\u001b[0m\u001b[0mid\u001b[0m\u001b[0;34m)\u001b[0m\u001b[0;34m\u001b[0m\u001b[0m\n\u001b[1;32m     18\u001b[0m             \u001b[0mprint\u001b[0m\u001b[0;34m(\u001b[0m\u001b[0mfeature\u001b[0m\u001b[0;34m)\u001b[0m\u001b[0;34m\u001b[0m\u001b[0m\n",
      "\u001b[0;31mKeyError\u001b[0m: 'note'"
     ]
    }
   ],
   "source": [
    "# use biopython to download genbank files\n",
    "\n",
    "from Bio import Entrez\n",
    "from Bio import SeqIO\n",
    "from Bio.SeqRecord import SeqRecord\n",
    "from Bio.SeqFeature import SeqFeature, FeatureLocation\n",
    "\n",
    "Entrez.email = \"email@here.com\"\n",
    "handle = Entrez.efetch(db=\"nuccore\", id=genbank_accession_list, rettype=\"gb\", retmode=\"text\")\n",
    "records = SeqIO.parse(handle, \"gb\")\n",
    "\n",
    "for record in records:\n",
    "    for feature in record.features:            \n",
    "            # extract just 1 gene from each genbank\n",
    "        print(feature.qualifiers.keys)\n",
    "        if feature.qualifiers['note'] == \"tapemeasure\" or \"tapemeasure protein\":\n",
    "            print(record.id)\n",
    "            print(feature)\n",
    "                \n"
   ]
  },
  {
   "cell_type": "code",
   "execution_count": null,
   "metadata": {
    "collapsed": true
   },
   "outputs": [],
   "source": []
  }
 ],
 "metadata": {
  "kernelspec": {
   "display_name": "Python 3",
   "language": "python",
   "name": "python3"
  },
  "language_info": {
   "codemirror_mode": {
    "name": "ipython",
    "version": 3
   },
   "file_extension": ".py",
   "mimetype": "text/x-python",
   "name": "python",
   "nbconvert_exporter": "python",
   "pygments_lexer": "ipython3",
   "version": "3.5.4"
  }
 },
 "nbformat": 4,
 "nbformat_minor": 2
}
